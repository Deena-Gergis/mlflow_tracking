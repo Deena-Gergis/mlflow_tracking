{
 "cells": [
  {
   "cell_type": "code",
   "execution_count": 1,
   "id": "c7c8c70f-21bf-4ef5-a196-6077e3b66dad",
   "metadata": {},
   "outputs": [],
   "source": [
    "EXPERIMENT_NAME = \"mlflow_tutorial\"\n",
    "ERROR_COL = \"metrics.MSE\"\n",
    "\n",
    "MODEL_PATH = \"toy_model.pkl\""
   ]
  },
  {
   "cell_type": "code",
   "execution_count": 2,
   "id": "9f538e36-6607-444f-9bf7-faffd00d3686",
   "metadata": {},
   "outputs": [],
   "source": [
    "import mlflow\n",
    "from mlflow.tracking import MlflowClient\n",
    "\n",
    "import os\n",
    "import pickle"
   ]
  },
  {
   "cell_type": "markdown",
   "id": "314fe80b-2bc9-4572-b0d5-b6b51323a8b1",
   "metadata": {},
   "source": [
    "### Retrieve experiment "
   ]
  },
  {
   "cell_type": "code",
   "execution_count": 3,
   "id": "e353a307-b89f-4325-90e1-130bdc59eaa0",
   "metadata": {},
   "outputs": [],
   "source": [
    "# Initialize client\n",
    "client = MlflowClient()\n",
    "\n",
    "# Get experiment \n",
    "exp = client.get_experiment_by_name(EXPERIMENT_NAME)"
   ]
  },
  {
   "cell_type": "code",
   "execution_count": 4,
   "id": "3df35291-7b31-4e48-81c6-d39d26468986",
   "metadata": {},
   "outputs": [
    {
     "data": {
      "text/html": [
       "<div>\n",
       "<style scoped>\n",
       "    .dataframe tbody tr th:only-of-type {\n",
       "        vertical-align: middle;\n",
       "    }\n",
       "\n",
       "    .dataframe tbody tr th {\n",
       "        vertical-align: top;\n",
       "    }\n",
       "\n",
       "    .dataframe thead th {\n",
       "        text-align: right;\n",
       "    }\n",
       "</style>\n",
       "<table border=\"1\" class=\"dataframe\">\n",
       "  <thead>\n",
       "    <tr style=\"text-align: right;\">\n",
       "      <th></th>\n",
       "      <th>run_id</th>\n",
       "      <th>experiment_id</th>\n",
       "      <th>status</th>\n",
       "      <th>artifact_uri</th>\n",
       "      <th>metrics.MSE</th>\n",
       "      <th>params.pca_var</th>\n",
       "      <th>tags.mlflow.source.type</th>\n",
       "      <th>tags.mlflow.user</th>\n",
       "      <th>tags.mlflow.source.name</th>\n",
       "    </tr>\n",
       "  </thead>\n",
       "  <tbody>\n",
       "    <tr>\n",
       "      <th>0</th>\n",
       "      <td>41e1628508fc4a2f83651ceceede6d8a</td>\n",
       "      <td>1</td>\n",
       "      <td>FINISHED</td>\n",
       "      <td>file:///home/deena_gergis/mlflow_illustartion/...</td>\n",
       "      <td>57.884313</td>\n",
       "      <td>1</td>\n",
       "      <td>LOCAL</td>\n",
       "      <td>deena_gergis</td>\n",
       "      <td>/home/deena_gergis/.local/lib/python3.8/site-p...</td>\n",
       "    </tr>\n",
       "    <tr>\n",
       "      <th>1</th>\n",
       "      <td>d39decb7e183450d87f679fb044c6e66</td>\n",
       "      <td>1</td>\n",
       "      <td>FINISHED</td>\n",
       "      <td>file:///home/deena_gergis/mlflow_illustartion/...</td>\n",
       "      <td>31.675892</td>\n",
       "      <td>0.95</td>\n",
       "      <td>LOCAL</td>\n",
       "      <td>deena_gergis</td>\n",
       "      <td>/home/deena_gergis/.local/lib/python3.8/site-p...</td>\n",
       "    </tr>\n",
       "    <tr>\n",
       "      <th>2</th>\n",
       "      <td>77c97ff7b2fe46d9becba4c230dd3193</td>\n",
       "      <td>1</td>\n",
       "      <td>FINISHED</td>\n",
       "      <td>file:///home/deena_gergis/mlflow_illustartion/...</td>\n",
       "      <td>31.831237</td>\n",
       "      <td>0.8</td>\n",
       "      <td>LOCAL</td>\n",
       "      <td>deena_gergis</td>\n",
       "      <td>/home/deena_gergis/.local/lib/python3.8/site-p...</td>\n",
       "    </tr>\n",
       "    <tr>\n",
       "      <th>3</th>\n",
       "      <td>f11b91bf1c7441c5bacc7e73adfbbe59</td>\n",
       "      <td>1</td>\n",
       "      <td>FINISHED</td>\n",
       "      <td>file:///home/deena_gergis/mlflow_illustartion/...</td>\n",
       "      <td>57.884313</td>\n",
       "      <td>0.3</td>\n",
       "      <td>LOCAL</td>\n",
       "      <td>deena_gergis</td>\n",
       "      <td>/home/deena_gergis/.local/lib/python3.8/site-p...</td>\n",
       "    </tr>\n",
       "  </tbody>\n",
       "</table>\n",
       "</div>"
      ],
      "text/plain": [
       "                             run_id experiment_id    status  \\\n",
       "0  41e1628508fc4a2f83651ceceede6d8a             1  FINISHED   \n",
       "1  d39decb7e183450d87f679fb044c6e66             1  FINISHED   \n",
       "2  77c97ff7b2fe46d9becba4c230dd3193             1  FINISHED   \n",
       "3  f11b91bf1c7441c5bacc7e73adfbbe59             1  FINISHED   \n",
       "\n",
       "                                        artifact_uri  metrics.MSE  \\\n",
       "0  file:///home/deena_gergis/mlflow_illustartion/...    57.884313   \n",
       "1  file:///home/deena_gergis/mlflow_illustartion/...    31.675892   \n",
       "2  file:///home/deena_gergis/mlflow_illustartion/...    31.831237   \n",
       "3  file:///home/deena_gergis/mlflow_illustartion/...    57.884313   \n",
       "\n",
       "  params.pca_var tags.mlflow.source.type tags.mlflow.user  \\\n",
       "0              1                   LOCAL     deena_gergis   \n",
       "1           0.95                   LOCAL     deena_gergis   \n",
       "2            0.8                   LOCAL     deena_gergis   \n",
       "3            0.3                   LOCAL     deena_gergis   \n",
       "\n",
       "                             tags.mlflow.source.name  \n",
       "0  /home/deena_gergis/.local/lib/python3.8/site-p...  \n",
       "1  /home/deena_gergis/.local/lib/python3.8/site-p...  \n",
       "2  /home/deena_gergis/.local/lib/python3.8/site-p...  \n",
       "3  /home/deena_gergis/.local/lib/python3.8/site-p...  "
      ]
     },
     "execution_count": 4,
     "metadata": {},
     "output_type": "execute_result"
    }
   ],
   "source": [
    "# Get all runs \n",
    "runs = mlflow.search_runs([exp.experiment_id])\n",
    "runs"
   ]
  },
  {
   "cell_type": "markdown",
   "id": "4caa971f-88d0-43e3-997d-a83592e5ae76",
   "metadata": {},
   "source": [
    "### Retrieve best model "
   ]
  },
  {
   "cell_type": "code",
   "execution_count": 5,
   "id": "2fb0c2b6-e358-4278-a23a-b5d5a0a5ea79",
   "metadata": {},
   "outputs": [],
   "source": [
    "# Sort by error values and get the first entry\n",
    "best_run = runs.sort_values(ERROR_COL).iloc[0]"
   ]
  },
  {
   "cell_type": "code",
   "execution_count": 6,
   "id": "431a596a-ecf1-43a6-941e-608539111cea",
   "metadata": {},
   "outputs": [],
   "source": [
    "# Load model\n",
    "artifact_path = best_run[\"artifact_uri\"].replace(\"file://\", \"\")\n",
    "model_pkl = os.path.join(artifact_path, MODEL_PATH)"
   ]
  },
  {
   "cell_type": "code",
   "execution_count": 7,
   "id": "8121d176-56d3-4c5b-a338-2351f0c5160e",
   "metadata": {},
   "outputs": [
    {
     "data": {
      "text/plain": [
       "Pipeline(steps=[('standardscaler', StandardScaler()),\n",
       "                ('pca', PCA(n_components=0.95, random_state=0)),\n",
       "                ('linearregression', LinearRegression())])"
      ]
     },
     "execution_count": 7,
     "metadata": {},
     "output_type": "execute_result"
    }
   ],
   "source": [
    "# Load model\n",
    "with open(model_pkl, \"rb\") as f:\n",
    "    model = pickle.load(f)\n",
    "    \n",
    "model"
   ]
  },
  {
   "cell_type": "code",
   "execution_count": null,
   "id": "2ea3f824-83b7-4ef4-85a5-ad3f8fc97434",
   "metadata": {},
   "outputs": [],
   "source": []
  }
 ],
 "metadata": {
  "kernelspec": {
   "display_name": "Python 3 (ipykernel)",
   "language": "python",
   "name": "python3"
  },
  "language_info": {
   "codemirror_mode": {
    "name": "ipython",
    "version": 3
   },
   "file_extension": ".py",
   "mimetype": "text/x-python",
   "name": "python",
   "nbconvert_exporter": "python",
   "pygments_lexer": "ipython3",
   "version": "3.8.8"
  }
 },
 "nbformat": 4,
 "nbformat_minor": 5
}
