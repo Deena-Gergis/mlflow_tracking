{
 "cells": [
  {
   "cell_type": "code",
   "execution_count": 1,
   "id": "4337f46a-6831-4282-9497-8fd0e135b898",
   "metadata": {},
   "outputs": [],
   "source": [
    "EXPERIMENT_NAME = \"mlflow_tutorial\"\n",
    "EXPORT_MODEL_PATH = \"toy_model.pkl\"\n",
    "RANDOM_STATE = 0"
   ]
  },
  {
   "cell_type": "code",
   "execution_count": 2,
   "id": "47f74a4a-f487-427e-b686-07e8d6c5e1d0",
   "metadata": {},
   "outputs": [],
   "source": [
    "import mlflow\n",
    "from mlflow.tracking import MlflowClient\n",
    "\n",
    "import sklearn\n",
    "from sklearn.datasets import load_boston\n",
    "from sklearn.model_selection import train_test_split\n",
    "from sklearn.pipeline import make_pipeline\n",
    "from sklearn.preprocessing import StandardScaler\n",
    "from sklearn.decomposition import PCA\n",
    "from sklearn.linear_model import LinearRegression\n",
    "from sklearn.metrics import mean_squared_error\n",
    "\n",
    "import pickle"
   ]
  },
  {
   "cell_type": "markdown",
   "id": "7a70453e-0258-49b1-8b9e-e72fd0e1a7e8",
   "metadata": {},
   "source": [
    "## Load toy data and prep"
   ]
  },
  {
   "cell_type": "code",
   "execution_count": 3,
   "id": "7eae8a81-5c9a-46da-9064-9389364525fa",
   "metadata": {},
   "outputs": [],
   "source": [
    "# Load toy data \n",
    "features, classes = load_boston(return_X_y=True)"
   ]
  },
  {
   "cell_type": "code",
   "execution_count": 4,
   "id": "d49d26f7-1395-49ad-a4d1-5f7eb8b95fb2",
   "metadata": {},
   "outputs": [],
   "source": [
    "# Split train and test data \n",
    "X_train, X_test, y_train, y_test = train_test_split(features, \n",
    "                                                    classes, \n",
    "                                                    test_size=0.3, \n",
    "                                                    random_state=RANDOM_STATE)"
   ]
  },
  {
   "cell_type": "markdown",
   "id": "340b9ec6-5f2e-47a1-af41-90305648e811",
   "metadata": {},
   "source": [
    "## Train and export toy model"
   ]
  },
  {
   "cell_type": "code",
   "execution_count": 5,
   "id": "6b1d0535-adfe-45e6-8ce1-a4dcf8524f69",
   "metadata": {},
   "outputs": [],
   "source": [
    "# Sample parameter\n",
    "PCA_VAR = 1"
   ]
  },
  {
   "cell_type": "code",
   "execution_count": 6,
   "id": "6fffe3ae-917d-46af-8c73-f8b89c874acb",
   "metadata": {},
   "outputs": [
    {
     "data": {
      "text/plain": [
       "Pipeline(steps=[('standardscaler', StandardScaler()),\n",
       "                ('pca', PCA(n_components=1, random_state=0)),\n",
       "                ('linearregression', LinearRegression())])"
      ]
     },
     "execution_count": 6,
     "metadata": {},
     "output_type": "execute_result"
    }
   ],
   "source": [
    "# Set pipeline  \n",
    "regressor = make_pipeline(StandardScaler(), \n",
    "                          PCA(n_components=PCA_VAR, random_state=RANDOM_STATE), \n",
    "                          LinearRegression())\n",
    "# ... and train\n",
    "regressor.fit(X_train, y_train)"
   ]
  },
  {
   "cell_type": "code",
   "execution_count": 7,
   "id": "05d1223b-2efe-429b-9699-e7c3927bbe86",
   "metadata": {},
   "outputs": [],
   "source": [
    "# Predict and calculate MSE\n",
    "test_prediction  = regressor.predict(X_test)\n",
    "mse_test = mean_squared_error(y_test, test_prediction)"
   ]
  },
  {
   "cell_type": "code",
   "execution_count": 8,
   "id": "77afe111-adf9-4da4-a275-9bdbfcafbb44",
   "metadata": {},
   "outputs": [],
   "source": [
    "# Export model\n",
    "with open(EXPORT_MODEL_PATH, 'wb') as handle:\n",
    "    pickle.dump(regressor, handle)"
   ]
  },
  {
   "cell_type": "markdown",
   "id": "1c6e5ca0-5cd3-4758-ac21-8703788765d0",
   "metadata": {},
   "source": [
    "## Track with Mlflow"
   ]
  },
  {
   "cell_type": "code",
   "execution_count": 9,
   "id": "9a7e5264-bb26-4255-8d61-b3ea3e0d31e8",
   "metadata": {},
   "outputs": [],
   "source": [
    "# Initialize client and experiment\n",
    "client = MlflowClient()\n",
    "mlflow.set_experiment(EXPERIMENT_NAME)\n",
    "exp = client.get_experiment_by_name(EXPERIMENT_NAME)"
   ]
  },
  {
   "cell_type": "code",
   "execution_count": 10,
   "id": "ba62fa93-c56c-47aa-add8-32537238b1c3",
   "metadata": {},
   "outputs": [],
   "source": [
    "# Start a new run and track \n",
    "with mlflow.start_run(experiment_id=exp.experiment_id):\n",
    "    mlflow.log_param(\"pca_var\", PCA_VAR)      # Track model parameter\n",
    "    mlflow.log_metric(\"MSE\", mse_test)        # Track error value\n",
    "    mlflow.log_artifact(EXPORT_MODEL_PATH)    # Track exported model"
   ]
  },
  {
   "cell_type": "code",
   "execution_count": null,
   "id": "0a89aaeb-27f3-495f-b35a-8042bad09432",
   "metadata": {},
   "outputs": [],
   "source": []
  }
 ],
 "metadata": {
  "kernelspec": {
   "display_name": "Python 3 (ipykernel)",
   "language": "python",
   "name": "python3"
  },
  "language_info": {
   "codemirror_mode": {
    "name": "ipython",
    "version": 3
   },
   "file_extension": ".py",
   "mimetype": "text/x-python",
   "name": "python",
   "nbconvert_exporter": "python",
   "pygments_lexer": "ipython3",
   "version": "3.8.8"
  }
 },
 "nbformat": 4,
 "nbformat_minor": 5
}
